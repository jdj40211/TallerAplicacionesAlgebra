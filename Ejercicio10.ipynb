{
  "nbformat": 4,
  "nbformat_minor": 0,
  "metadata": {
    "colab": {
      "provenance": [],
      "authorship_tag": "ABX9TyN8gyByKFS4f/zwmVSjKtCo",
      "include_colab_link": true
    },
    "kernelspec": {
      "name": "python3",
      "display_name": "Python 3"
    },
    "language_info": {
      "name": "python"
    }
  },
  "cells": [
    {
      "cell_type": "markdown",
      "metadata": {
        "id": "view-in-github",
        "colab_type": "text"
      },
      "source": [
        "<a href=\"https://colab.research.google.com/github/jdj40211/TallerAplicacionesAlgebra/blob/main/Ejercicio10.ipynb\" target=\"_parent\"><img src=\"https://colab.research.google.com/assets/colab-badge.svg\" alt=\"Open In Colab\"/></a>"
      ]
    },
    {
      "cell_type": "code",
      "execution_count": 1,
      "metadata": {
        "colab": {
          "base_uri": "https://localhost:8080/"
        },
        "id": "QqTN9AYXFV6A",
        "outputId": "e86b2e5f-704f-4866-c07e-c8d941c22a64"
      },
      "outputs": [
        {
          "output_type": "stream",
          "name": "stdout",
          "text": [
            "El numero de 10-trayectorias entre los vertices 2 y 4 de G1 es: 3794\n",
            "El numero de 13-trayectorias entre los vertices 4 y 5 de G2 es: 16366\n",
            "El numero de circuitos de longitud 12 del vertice 7 de G3 es: 9512\n"
          ]
        }
      ],
      "source": [
        "import numpy as np\n",
        "from scipy.linalg import eigh\n",
        "\n",
        "def diagonalizar_ortogonalmente(matriz_adyacencia):\n",
        "    autovalores, autovectores = eigh(matriz_adyacencia)\n",
        "    return autovalores, autovectores\n",
        "\n",
        "def calcular_numero_trayectorias(autovalores, autovectores, k, vertice_i, vertice_j):\n",
        "    autovalores_k = np.diag(autovalores ** k)\n",
        "    matriz_potencia = autovectores @ autovalores_k @ np.linalg.inv(autovectores)\n",
        "    return int(round(matriz_potencia[vertice_i - 1, vertice_j - 1]))\n",
        "\n",
        "def main():\n",
        "    matriz_G1 = np.array([\n",
        "        [0, 1, 0, 1],\n",
        "        [1, 0, 1, 1],\n",
        "        [0, 1, 0, 1],\n",
        "        [1, 1, 1, 0]\n",
        "    ])\n",
        "\n",
        "    matriz_G2 = np.array([\n",
        "        [0, 1, 0, 1, 0, 0],\n",
        "        [1, 0, 0, 1, 0, 0],\n",
        "        [0, 0, 0, 1, 1, 1],\n",
        "        [1, 1, 1, 0, 0, 0],\n",
        "        [0, 0, 1, 0, 0, 1],\n",
        "        [0, 0, 1, 0, 1, 0]\n",
        "    ])\n",
        "\n",
        "    matriz_G3 = np.array([\n",
        "        [0, 1, 0, 1, 0, 0, 0, 1],\n",
        "        [1, 0, 0, 1, 0, 0, 0, 0],\n",
        "        [0, 0, 0, 1, 1, 1, 0, 1],\n",
        "        [1, 1, 1, 0, 0, 0, 1, 0],\n",
        "        [0, 0, 1, 0, 0, 0, 0, 1],\n",
        "        [0, 0, 1, 0, 0, 0, 0, 0],\n",
        "        [0, 0, 0, 1, 0, 0, 0, 0],\n",
        "        [1, 0, 1, 0, 1, 0, 0, 0]\n",
        "    ])\n",
        "\n",
        "    autovalores_G1, autovectores_G1 = diagonalizar_ortogonalmente(matriz_G1)\n",
        "    autovalores_G2, autovectores_G2 = diagonalizar_ortogonalmente(matriz_G2)\n",
        "    autovalores_G3, autovectores_G3 = diagonalizar_ortogonalmente(matriz_G3)\n",
        "\n",
        "    k1, vertice_2_4_G1 = 10, (2, 4)\n",
        "    trayectorias_2_4_G1 = calcular_numero_trayectorias(autovalores_G1, autovectores_G1, k1, *vertice_2_4_G1)\n",
        "    print(f\"El numero de {k1}-trayectorias entre los vertices {vertice_2_4_G1[0]} y {vertice_2_4_G1[1]} de G1 es: {trayectorias_2_4_G1}\")\n",
        "\n",
        "    k2, vertice_4_5_G2 = 13, (4, 5)\n",
        "    trayectorias_4_5_G2 = calcular_numero_trayectorias(autovalores_G2, autovectores_G2, k2, *vertice_4_5_G2)\n",
        "    print(f\"El numero de {k2}-trayectorias entre los vertices {vertice_4_5_G2[0]} y {vertice_4_5_G2[1]} de G2 es: {trayectorias_4_5_G2}\")\n",
        "\n",
        "    k3, vertice_7_G3 = 12, (7, 7)\n",
        "    circuitos_longitud_12_G3 = calcular_numero_trayectorias(autovalores_G3, autovectores_G3, k3, *vertice_7_G3)\n",
        "    print(f\"El numero de circuitos de longitud {k3} del vertice {vertice_7_G3[0]} de G3 es: {circuitos_longitud_12_G3}\")\n",
        "\n",
        "if __name__ == \"__main__\":\n",
        "    main()\n"
      ]
    }
  ]
}