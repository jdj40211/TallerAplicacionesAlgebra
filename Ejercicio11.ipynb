{
  "nbformat": 4,
  "nbformat_minor": 0,
  "metadata": {
    "colab": {
      "provenance": [],
      "authorship_tag": "ABX9TyPypJ3EHyOV6aHzT11/SH7Y",
      "include_colab_link": true
    },
    "kernelspec": {
      "name": "python3",
      "display_name": "Python 3"
    },
    "language_info": {
      "name": "python"
    }
  },
  "cells": [
    {
      "cell_type": "markdown",
      "metadata": {
        "id": "view-in-github",
        "colab_type": "text"
      },
      "source": [
        "<a href=\"https://colab.research.google.com/github/jdj40211/TallerAplicacionesAlgebra/blob/main/Ejercicio11.ipynb\" target=\"_parent\"><img src=\"https://colab.research.google.com/assets/colab-badge.svg\" alt=\"Open In Colab\"/></a>"
      ]
    },
    {
      "cell_type": "code",
      "execution_count": null,
      "metadata": {
        "id": "J13gFztWSfO3"
      },
      "outputs": [],
      "source": [
        "import numpy as np\n",
        "import networkx as nx\n",
        "import matplotlib.pyplot as plt\n",
        "\n",
        "# Definir las matrices de adyacencia\n",
        "A = np.array([[0, 1, 0, 0, 1],\n",
        "              [0, 0, 0, 0, 1],\n",
        "              [1, 0, 0, 1, 1],\n",
        "              [0, 1, 0, 0, 0],\n",
        "              [1, 0, 1, 0, 0]])\n",
        "\n",
        "B = np.array([[0, 1, 0, 1],\n",
        "              [0, 0, 0, 1],\n",
        "              [0, 1, 0, 0],\n",
        "              [1, 0, 1, 0]])\n",
        "\n",
        "C = np.array([[0, 1, 0, 0, 1, 1],\n",
        "              [0, 0, 0, 1, 0, 1],\n",
        "              [1, 0, 0, 0, 1, 1],\n",
        "              [0, 0, 0, 0, 1, 0],\n",
        "              [1, 0, 0, 1, 0, 0],\n",
        "              [0, 0, 0, 1, 0, 0]])\n",
        "\n",
        "def dibujar_digrafo(matriz, nombre):\n",
        "    G = nx.DiGraph()  # Crear un grafo dirigido\n",
        "    n = matriz.shape[0]\n",
        "\n",
        "    # Agregar nodos y aristas al grafo\n",
        "    for i in range(n):\n",
        "        G.add_node(i + 1)\n",
        "        for j in range(n):\n",
        "            if matriz[i, j] == 1:\n",
        "                G.add_edge(i + 1, j + 1)\n",
        "\n",
        "    plt.figure()\n",
        "    pos = nx.spring_layout(G)\n",
        "    nx.draw(G, pos, with_labels=True, node_color='skyblue', edge_color='black', arrows=True, node_size=1000)\n",
        "    plt.title(f\"Dígrafo {nombre}\")\n",
        "    plt.show()\n",
        "\n",
        "dibujar_digrafo(A, \"A\")\n",
        "dibujar_digrafo(B, \"B\")\n",
        "dibujar_digrafo(C, \"C\")\n"
      ]
    }
  ]
}