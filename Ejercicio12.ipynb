{
  "nbformat": 4,
  "nbformat_minor": 0,
  "metadata": {
    "colab": {
      "provenance": [],
      "authorship_tag": "ABX9TyPmI8O12SIIJ21iY9BE8eet",
      "include_colab_link": true
    },
    "kernelspec": {
      "name": "python3",
      "display_name": "Python 3"
    },
    "language_info": {
      "name": "python"
    }
  },
  "cells": [
    {
      "cell_type": "markdown",
      "metadata": {
        "id": "view-in-github",
        "colab_type": "text"
      },
      "source": [
        "<a href=\"https://colab.research.google.com/github/jdj40211/TallerAplicacionesAlgebra/blob/main/Ejercicio12.ipynb\" target=\"_parent\"><img src=\"https://colab.research.google.com/assets/colab-badge.svg\" alt=\"Open In Colab\"/></a>"
      ]
    },
    {
      "cell_type": "code",
      "execution_count": 1,
      "metadata": {
        "colab": {
          "base_uri": "https://localhost:8080/"
        },
        "id": "9jXZbFo8XpwN",
        "outputId": "90370294-64d1-4db1-c991-604731d01f94"
      },
      "outputs": [
        {
          "output_type": "stream",
          "name": "stdout",
          "text": [
            "La matriz A_D1 es diagonalizable.\n",
            "Valores propios de A_D1: [ 1.87938524e+00 -1.53208889e+00 -3.47296355e-01 -1.50274614e-16]\n",
            "Vectores propios de A_D1: \n",
            "[[-5.77350269e-01  5.77350269e-01  5.77350269e-01 -7.07106781e-01]\n",
            " [-6.56538502e-01 -2.28013429e-01 -4.28525073e-01  4.98571317e-16]\n",
            " [-4.28525073e-01 -6.56538502e-01  2.28013429e-01 -4.07921987e-16]\n",
            " [-2.28013429e-01  4.28525073e-01 -6.56538502e-01  7.07106781e-01]]\n",
            "\n",
            "A_D1^20 =\n",
            "[[102431  52497 134236 102431]\n",
            " [113887  61390 154928 113887]\n",
            " [ 72846  41041 102431  72846]\n",
            " [ 41041  20349  52497  41041]]\n",
            "\n",
            "A_D1^21 =\n",
            "[[186733 102431 257359 186733]\n",
            " [216318 113887 289164 216318]\n",
            " [143472  72846 186733 143472]\n",
            " [ 72846  41041 102431  72846]]\n",
            "\n",
            "Entrada (1,1) de A_D1^20: 102431\n",
            "Entrada (1,1) de A_D1^21: 186733\n",
            "\n",
            "La matriz A_D2 NO es diagonalizable.\n",
            "Valores propios de A_D2: [ 0.        +0.j          1.65289165+0.j         -1.65289165+0.j\n",
            "  0.        +0.85559968j  0.        -0.85559968j  0.        +0.j        ]\n",
            "Vectores propios de A_D2: \n",
            "[[ 0.00000000e+00+0.00000000e+00j  5.84385447e-01+0.00000000e+00j\n",
            "   5.84385447e-01+0.00000000e+00j  2.31644099e-17-2.21445491e-01j\n",
            "   2.31644099e-17+2.21445491e-01j  0.00000000e+00+0.00000000e+00j]\n",
            " [ 0.00000000e+00+0.00000000e+00j  6.12372436e-01+0.00000000e+00j\n",
            "  -6.12372436e-01+0.00000000e+00j  4.48287736e-01-3.46437268e-18j\n",
            "   4.48287736e-01+3.46437268e-18j  0.00000000e+00+0.00000000e+00j]\n",
            " [ 1.00000000e+00+0.00000000e+00j  2.58819045e-01+0.00000000e+00j\n",
            "  -2.58819045e-01+0.00000000e+00j  7.07106781e-01+0.00000000e+00j\n",
            "   7.07106781e-01-0.00000000e+00j  0.00000000e+00+0.00000000e+00j]\n",
            " [ 0.00000000e+00+0.00000000e+00j  2.13899919e-01+0.00000000e+00j\n",
            "   2.13899919e-01+0.00000000e+00j -1.26878319e-18+3.02500167e-01j\n",
            "  -1.26878319e-18-3.02500167e-01j -7.07106781e-01+0.00000000e+00j]\n",
            " [ 0.00000000e+00+0.00000000e+00j  3.53553391e-01+0.00000000e+00j\n",
            "  -3.53553391e-01+0.00000000e+00j -2.58819045e-01-1.34397974e-17j\n",
            "  -2.58819045e-01+1.34397974e-17j  0.00000000e+00+0.00000000e+00j]\n",
            " [ 0.00000000e+00+0.00000000e+00j  2.13899919e-01+0.00000000e+00j\n",
            "   2.13899919e-01+0.00000000e+00j -1.26878319e-18+3.02500167e-01j\n",
            "  -1.26878319e-18-3.02500167e-01j  7.07106781e-01+0.00000000e+00j]]\n",
            "\n",
            "A_D2^20 =\n",
            "[[18272     0     0  6688     0  6688]\n",
            " [    0 11584     0     0 20064     0]\n",
            " [    0  4896     0     0  8480     0]\n",
            " [ 6688     0     0  2448     0  2448]\n",
            " [    0  6688     0     0 11584     0]\n",
            " [ 6688     0     0  2448     0  2448]]\n",
            "\n",
            "A_D2^21 =\n",
            "[[    0 18272     0     0 31648     0]\n",
            " [31648     0     0 11584     0 11584]\n",
            " [13376     0     0  4896     0  4896]\n",
            " [    0  6688     0     0 11584     0]\n",
            " [18272     0     0  6688     0  6688]\n",
            " [    0  6688     0     0 11584     0]]\n",
            "\n",
            "Entrada (1,1) de A_D2^20: 18272\n",
            "Entrada (1,1) de A_D2^21: 0\n",
            "\n"
          ]
        }
      ],
      "source": [
        "import numpy as np\n",
        "from numpy.linalg import eig, matrix_power\n",
        "\n",
        "# Matrices de adyacencia de los dígrafos del Ejemplo 12\n",
        "A_D1 = np.array([[0, 1, 1, 0],\n",
        "                 [1, 0, 1, 1],\n",
        "                 [1, 0, 0, 1],\n",
        "                 [0, 0, 1, 0]])\n",
        "\n",
        "A_D2 = np.array([[0, 1, 0, 0, 1, 0],\n",
        "                 [1, 0, 0, 1, 0, 1],\n",
        "                 [0, 0, 0, 1, 0, 1],\n",
        "                 [0, 0, 0, 0, 1, 0],\n",
        "                 [1, 0, 0, 0, 0, 0],\n",
        "                 [0, 0, 0, 0, 1, 0]])\n",
        "\n",
        "# Función para verificar diagonalización y calcular potencias\n",
        "def analizar_matriz(matriz, nombre):\n",
        "\n",
        "    valores_propios, vectores_propios = eig(matriz)\n",
        "\n",
        "    if len(set(np.round(valores_propios, decimals=5))) == len(valores_propios):\n",
        "        print(f\"La matriz {nombre} es diagonalizable.\")\n",
        "    else:\n",
        "        print(f\"La matriz {nombre} NO es diagonalizable.\")\n",
        "\n",
        "    print(f\"Valores propios de {nombre}: {valores_propios}\")\n",
        "    print(f\"Vectores propios de {nombre}: \\n{vectores_propios}\\n\")\n",
        "\n",
        "    # Calcular A^20 y A^21\n",
        "    A_20 = matrix_power(matriz, 20)\n",
        "    A_21 = matrix_power(matriz, 21)\n",
        "\n",
        "    print(f\"{nombre}^20 =\\n{A_20}\\n\")\n",
        "    print(f\"{nombre}^21 =\\n{A_21}\\n\")\n",
        "    print(f\"Entrada (1,1) de {nombre}^20: {A_20[0, 0]}\")\n",
        "    print(f\"Entrada (1,1) de {nombre}^21: {A_21[0, 0]}\\n\")\n",
        "\n",
        "analizar_matriz(A_D1, \"A_D1\")\n",
        "analizar_matriz(A_D2, \"A_D2\")\n"
      ]
    }
  ]
}